{
 "cells": [
  {
   "cell_type": "code",
   "execution_count": 1,
   "id": "c9faf241",
   "metadata": {},
   "outputs": [],
   "source": [
    "import requests"
   ]
  },
  {
   "cell_type": "code",
   "execution_count": 2,
   "id": "1148f354",
   "metadata": {},
   "outputs": [],
   "source": [
    "url = 'http://anthologiagraeca.org/api/passages'\n",
    "results = []\n",
    "pagination = True\n",
    "while pagination == True :\n",
    "    alldata = requests.get(url).json()\n",
    "    for result in alldata['results'] :\n",
    "        results.append(result)\n",
    "    if alldata['next'] is None:\n",
    "        pagination = False\n",
    "    else:\n",
    "        url = alldata['next']"
   ]
  },
  {
   "cell_type": "code",
   "execution_count": 3,
   "id": "9a6f5829",
   "metadata": {},
   "outputs": [
    {
     "data": {
      "text/plain": [
       "4134"
      ]
     },
     "execution_count": 3,
     "metadata": {},
     "output_type": "execute_result"
    }
   ],
   "source": [
    "len(results)"
   ]
  },
  {
   "cell_type": "code",
   "execution_count": 4,
   "id": "7128ca74",
   "metadata": {},
   "outputs": [],
   "source": [
    "import json, pickle"
   ]
  },
  {
   "cell_type": "code",
   "execution_count": 5,
   "id": "743c4212",
   "metadata": {},
   "outputs": [],
   "source": [
    "with open(\"all_epigrams.json\", \"w\") as fo:\n",
    "    json.dump(results, fo)"
   ]
  }
 ],
 "metadata": {
  "kernelspec": {
   "display_name": "Python 3 (ipykernel)",
   "language": "python",
   "name": "python3"
  },
  "language_info": {
   "codemirror_mode": {
    "name": "ipython",
    "version": 3
   },
   "file_extension": ".py",
   "mimetype": "text/x-python",
   "name": "python",
   "nbconvert_exporter": "python",
   "pygments_lexer": "ipython3",
   "version": "3.10.8"
  }
 },
 "nbformat": 4,
 "nbformat_minor": 5
}
