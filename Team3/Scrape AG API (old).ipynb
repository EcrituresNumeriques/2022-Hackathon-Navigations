{
 "cells": [
  {
   "cell_type": "code",
   "execution_count": 6,
   "id": "c9faf241",
   "metadata": {},
   "outputs": [],
   "source": [
    "import requests"
   ]
  },
  {
   "cell_type": "code",
   "execution_count": 7,
   "id": "913f8c01",
   "metadata": {},
   "outputs": [],
   "source": [
    "ep6_13 = requests.get('https://anthologiagraeca.org/api/passages/urn:cts:greekLit:tlg7000.tlg001.ag:6.13').json()"
   ]
  },
  {
   "cell_type": "code",
   "execution_count": 9,
   "id": "098adb83",
   "metadata": {},
   "outputs": [
    {
     "data": {
      "text/plain": [
       "[{'url': 'https://anthologiagraeca.org/api/texts/1463/',\n",
       "  'language': 'grc',\n",
       "  'text': 'οἱ τρισσοί τοι ταῦτα τὰ δίκτυα θῆκαν ὅμαιμοι,\\nἀγρότα Πάν, ἄλλης ἄλλος ἀπ᾽ ἀγρεσίης:\\nὧν ἀπὸ μὲν πτηνῶν Πίγρης τάδε, ταῦτα δὲ Δᾶμις\\nτετραπόδων, Κλείτωρ δ᾽ ὁ τρίτος εἰναλίων.\\nἀνθ᾽ ὧν τῷ μὲν πέμπε δι᾽ ἠέρος εὔστοχον ἄγρην,\\nτῷ δὲ διὰ δρυμῶν, τῷ δὲ δι᾽ ἠϊόνων. '},\n",
       " {'url': 'https://anthologiagraeca.org/api/texts/1464/',\n",
       "  'language': 'ita',\n",
       "  'text': 'Tre fratelli ti hanno dedicato queste reti,\\nPan cacciatore, ognuna proveniente da una caccia differente.\\nPigre queste di uccelli, Damis queste,\\ndi bestie feroci, Cleitore, il terzo, di animali marini.\\nIn cambio dai una caccia fortunata al primo in aria\\nal secondo nei boschi e al terzo sulle rive.'},\n",
       " {'url': 'https://anthologiagraeca.org/api/texts/1465/',\n",
       "  'language': 'fra',\n",
       "  'text': \"Ces trois frères t'ont dédié ces filets,\\nPan chasseur, chacun issu d'une chasse différente.\\nPigres celles-ci, d'oiseaux, Damis celle-ci,\\nde bêtes féroces, Cléitor, le troisième, d'animaux marins.\\nEn échange donne une bonne chasse au premier dans l'air,\\nau deuxième dans les bois et au troisième sur les rivages.\"},\n",
       " {'url': 'https://anthologiagraeca.org/api/texts/1466/',\n",
       "  'language': 'fra',\n",
       "  'text': \"Les trois frères t'ont consacré, chasseur Pan, ces filets, pris par chacun à son genre de chasse: Pigrès, pour les oiseaux; Damis, pour les quadrupèdes; Cléitor, pour le peuple de la mer. Envoie-leur en échange une bonne chasse à l'un par les airs, au second par les bois, à l'autre par les grèves.\"},\n",
       " {'url': 'https://anthologiagraeca.org/api/texts/1467/',\n",
       "  'language': 'eng',\n",
       "  'text': 'Huntsman Pan, the three brothers dedicated these nets to thee, each from a different chase: Pigres these from fowl, Damis these from beast, and Clitor his from the denizens of the deep. In return for which send them easily caught game, to the first through the air, to the second through the woods, and to the third through the shore-water.'}]"
      ]
     },
     "execution_count": 9,
     "metadata": {},
     "output_type": "execute_result"
    }
   ],
   "source": [
    "ep6_13['texts']"
   ]
  },
  {
   "cell_type": "code",
   "execution_count": 11,
   "id": "001bf2bb",
   "metadata": {},
   "outputs": [
    {
     "data": {
      "text/plain": [
       "50"
      ]
     },
     "execution_count": 11,
     "metadata": {},
     "output_type": "execute_result"
    }
   ],
   "source": [
    "# https://anthologiagraeca.org/pages/documentation-technique/\n",
    "\n",
    "epigrams_url = 'http://anthologiagraeca.org/api/passages/'\n",
    "epigrams = requests.get(epigrams_url).json()\n",
    "len(epigrams['results'])"
   ]
  },
  {
   "cell_type": "code",
   "execution_count": 15,
   "id": "65944b3e",
   "metadata": {
    "scrolled": false
   },
   "outputs": [
    {
     "data": {
      "text/plain": [
       "dict_keys(['id', 'book', 'fragment', 'sub_fragment', 'url', 'manuscripts', 'texts', 'authors', 'cities', 'keywords', 'scholia', 'comments', 'external_references', 'internal_references', 'media'])"
      ]
     },
     "execution_count": 15,
     "metadata": {},
     "output_type": "execute_result"
    }
   ],
   "source": [
    "epigrams[\"results\"][0].keys()"
   ]
  },
  {
   "cell_type": "code",
   "execution_count": 16,
   "id": "04da7730",
   "metadata": {},
   "outputs": [
    {
     "data": {
      "text/plain": [
       "dict_keys(['count', 'next', 'previous', 'results'])"
      ]
     },
     "execution_count": 16,
     "metadata": {},
     "output_type": "execute_result"
    }
   ],
   "source": [
    "epigrams.keys()"
   ]
  },
  {
   "cell_type": "markdown",
   "id": "df11fe07",
   "metadata": {},
   "source": [
    "# Get all texts"
   ]
  },
  {
   "cell_type": "code",
   "execution_count": 18,
   "id": "1148f354",
   "metadata": {},
   "outputs": [],
   "source": [
    "url = 'http://anthologiagraeca.org/api/passages'\n",
    "results = []\n",
    "pagination = True\n",
    "while pagination == True :\n",
    "    alldata = requests.get(url).json()\n",
    "    for result in alldata['results'] :\n",
    "        results.append(result)\n",
    "    if alldata['next'] is None:\n",
    "        pagination = False\n",
    "    else:\n",
    "        url = alldata['next']"
   ]
  },
  {
   "cell_type": "code",
   "execution_count": 20,
   "id": "9a6f5829",
   "metadata": {},
   "outputs": [
    {
     "data": {
      "text/plain": [
       "4134"
      ]
     },
     "execution_count": 20,
     "metadata": {},
     "output_type": "execute_result"
    }
   ],
   "source": [
    "len(results)"
   ]
  },
  {
   "cell_type": "code",
   "execution_count": 53,
   "id": "7128ca74",
   "metadata": {},
   "outputs": [],
   "source": [
    "import json, pickle"
   ]
  },
  {
   "cell_type": "code",
   "execution_count": 57,
   "id": "743c4212",
   "metadata": {},
   "outputs": [],
   "source": [
    "with open(\"all_epigrams.json\", \"w\") as fo:\n",
    "    json.dump(results, fo)"
   ]
  },
  {
   "cell_type": "code",
   "execution_count": 60,
   "id": "73c8ec1c",
   "metadata": {
    "scrolled": true
   },
   "outputs": [
    {
     "name": "stderr",
     "output_type": "stream",
     "text": [
      "IOPub data rate exceeded.\n",
      "The notebook server will temporarily stop sending output\n",
      "to the client in order to avoid crashing it.\n",
      "To change this limit, set the config variable\n",
      "`--NotebookApp.iopub_data_rate_limit`.\n",
      "\n",
      "Current values:\n",
      "NotebookApp.iopub_data_rate_limit=1000000.0 (bytes/sec)\n",
      "NotebookApp.rate_limit_window=3.0 (secs)\n",
      "\n"
     ]
    },
    {
     "name": "stdout",
     "output_type": "stream",
     "text": [
      "\n"
     ]
    }
   ],
   "source": [
    "!head all_epigrams.json"
   ]
  },
  {
   "cell_type": "code",
   "execution_count": 23,
   "id": "90f03852",
   "metadata": {
    "scrolled": true
   },
   "outputs": [
    {
     "data": {
      "text/plain": [
       "dict_keys(['id', 'book', 'fragment', 'sub_fragment', 'url', 'manuscripts', 'texts', 'authors', 'cities', 'keywords', 'scholia', 'comments', 'external_references', 'internal_references', 'media'])"
      ]
     },
     "execution_count": 23,
     "metadata": {},
     "output_type": "execute_result"
    }
   ],
   "source": [
    "results[0].keys()"
   ]
  },
  {
   "cell_type": "code",
   "execution_count": null,
   "id": "765b024f",
   "metadata": {},
   "outputs": [],
   "source": [
    "antipater_thess_id = 3\n",
    "antipater_sid_id = 17"
   ]
  },
  {
   "cell_type": "code",
   "execution_count": 5,
   "id": "dfd2e77f",
   "metadata": {},
   "outputs": [
    {
     "ename": "NameError",
     "evalue": "name 'results' is not defined",
     "output_type": "error",
     "traceback": [
      "\u001b[1;31m---------------------------------------------------------------------------\u001b[0m",
      "\u001b[1;31mNameError\u001b[0m                                 Traceback (most recent call last)",
      "Cell \u001b[1;32mIn [5], line 5\u001b[0m\n\u001b[0;32m      1\u001b[0m all_antipater \u001b[38;5;241m=\u001b[39m {\u001b[38;5;124m'\u001b[39m\u001b[38;5;124msidon\u001b[39m\u001b[38;5;124m'\u001b[39m:[], \u001b[38;5;124m'\u001b[39m\u001b[38;5;124mthess\u001b[39m\u001b[38;5;124m'\u001b[39m:[], \u001b[38;5;124m'\u001b[39m\u001b[38;5;124mdubious\u001b[39m\u001b[38;5;124m'\u001b[39m:[]}  \u001b[38;5;66;03m# 3 keys, 1 for each author group\u001b[39;00m\n\u001b[0;32m      2\u001b[0m \u001b[38;5;66;03m# dict[str, [list[dict[str, ???]]]]\u001b[39;00m\n\u001b[0;32m      3\u001b[0m \u001b[38;5;66;03m#AntThess = 3 AntSidon = 17\u001b[39;00m\n\u001b[1;32m----> 5\u001b[0m \u001b[38;5;28;01mfor\u001b[39;00m result \u001b[38;5;129;01min\u001b[39;00m \u001b[43mresults\u001b[49m:\n\u001b[0;32m      6\u001b[0m     \u001b[38;5;28mprint\u001b[39m(result[\u001b[38;5;124m'\u001b[39m\u001b[38;5;124mauthors\u001b[39m\u001b[38;5;124m'\u001b[39m])\n\u001b[0;32m      7\u001b[0m     poem \u001b[38;5;241m=\u001b[39m \u001b[38;5;28mdict\u001b[39m()\n",
      "\u001b[1;31mNameError\u001b[0m: name 'results' is not defined"
     ]
    }
   ],
   "source": [
    "\n",
    "    "
   ]
  },
  {
   "cell_type": "code",
   "execution_count": null,
   "id": "19460b65",
   "metadata": {},
   "outputs": [],
   "source": []
  },
  {
   "cell_type": "code",
   "execution_count": null,
   "id": "10d7c0a4",
   "metadata": {},
   "outputs": [],
   "source": []
  }
 ],
 "metadata": {
  "kernelspec": {
   "display_name": "Python 3 (ipykernel)",
   "language": "python",
   "name": "python3"
  },
  "language_info": {
   "codemirror_mode": {
    "name": "ipython",
    "version": 3
   },
   "file_extension": ".py",
   "mimetype": "text/x-python",
   "name": "python",
   "nbconvert_exporter": "python",
   "pygments_lexer": "ipython3",
   "version": "3.10.8"
  }
 },
 "nbformat": 4,
 "nbformat_minor": 5
}
