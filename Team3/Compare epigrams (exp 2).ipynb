{
 "cells": [
  {
   "cell_type": "markdown",
   "id": "a1a34399",
   "metadata": {},
   "source": [
    "The previous experiment had poor results b/c the vectors were too sparse. We'll try again by making a lexicon from all epigrams (not just the Antipaters). Try to get something denser or at least more meaninful. Also will lemmatize."
   ]
  },
  {
   "cell_type": "code",
   "execution_count": 59,
   "id": "25547e64",
   "metadata": {},
   "outputs": [],
   "source": [
    "import json\n",
    "import unicodedata"
   ]
  },
  {
   "cell_type": "code",
   "execution_count": 25,
   "id": "6961fca2",
   "metadata": {},
   "outputs": [],
   "source": [
    "from cltk import NLP"
   ]
  },
  {
   "cell_type": "code",
   "execution_count": 26,
   "id": "f54fea3e",
   "metadata": {},
   "outputs": [
    {
     "name": "stdout",
     "output_type": "stream",
     "text": [
      "‎𐤀 CLTK version '1.1.6'.\n",
      "Pipeline for language 'Ancient Greek' (ISO: 'grc'): `GreekNormalizeProcess`, `GreekStanzaProcess`, `GreekEmbeddingsProcess`, `StopsProcess`.\n"
     ]
    }
   ],
   "source": [
    "nlp = NLP(\"grc\")"
   ]
  },
  {
   "cell_type": "code",
   "execution_count": 27,
   "id": "05ef6011",
   "metadata": {},
   "outputs": [],
   "source": [
    "doc = nlp.analyze(\"Χριστὸν παμβασιλῆα φίλοις καμάτοισι γεραίρων\")"
   ]
  },
  {
   "cell_type": "code",
   "execution_count": 28,
   "id": "272c1786",
   "metadata": {},
   "outputs": [
    {
     "data": {
      "text/plain": [
       "'γέραιρος'"
      ]
     },
     "execution_count": 28,
     "metadata": {},
     "output_type": "execute_result"
    }
   ],
   "source": [
    "doc.words[4].lemma"
   ]
  },
  {
   "cell_type": "markdown",
   "id": "daea774e",
   "metadata": {},
   "source": [
    "# Load Epigrams"
   ]
  },
  {
   "cell_type": "code",
   "execution_count": 29,
   "id": "f1963497",
   "metadata": {},
   "outputs": [],
   "source": [
    "with open(\"all_epigrams.json\", \"r\") as fo:\n",
    "    all_epigrams = json.load(fo)"
   ]
  },
  {
   "cell_type": "code",
   "execution_count": 30,
   "id": "1eb8a42f",
   "metadata": {},
   "outputs": [],
   "source": [
    "# all_epigrams"
   ]
  },
  {
   "cell_type": "markdown",
   "id": "1639610b",
   "metadata": {},
   "source": [
    "# Get Greek sentences\n",
    "\n",
    "Look through `all_epigrams` and make a list of strings, the strings being the greek epigram text."
   ]
  },
  {
   "cell_type": "code",
   "execution_count": 31,
   "id": "a6113094",
   "metadata": {},
   "outputs": [],
   "source": [
    "greek_sentences = []"
   ]
  },
  {
   "cell_type": "code",
   "execution_count": 32,
   "id": "8e636f59",
   "metadata": {},
   "outputs": [],
   "source": [
    "for epigram in all_epigrams:\n",
    "    for epigram_text in epigram[\"texts\"]:\n",
    "        if epigram_text[\"language\"] == \"grc\":\n",
    "            greek_sentences.append(epigram_text['text'])"
   ]
  },
  {
   "cell_type": "markdown",
   "id": "1989a082",
   "metadata": {},
   "source": [
    "# Get both Antipaters' epigrams"
   ]
  },
  {
   "cell_type": "code",
   "execution_count": 42,
   "id": "e43a9f47",
   "metadata": {},
   "outputs": [
    {
     "name": "stdout",
     "output_type": "stream",
     "text": [
      "4218\n"
     ]
    }
   ],
   "source": [
    "all_texts = list()\n",
    "for epigram in all_epigrams:\n",
    "    #print(epigram.keys())\n",
    "    texts = epigram[\"texts\"]\n",
    "    for text_obj in texts:\n",
    "        if text_obj[\"language\"] == \"grc\":\n",
    "            text = text_obj[\"text\"]\n",
    "            all_texts.append(text)\n",
    "print(len(all_texts))"
   ]
  },
  {
   "cell_type": "code",
   "execution_count": 44,
   "id": "191fec21",
   "metadata": {},
   "outputs": [
    {
     "data": {
      "text/plain": [
       "['\\n                      ἃς οἱ πλάνοι καθεῖλον ἐνθάδ᾽ εἰκόνας\\n ἄνακτες ἐστήλωσαν εὐσεβεῖς πάλιν.\\n',\n",
       " '\\n                      θεῖος Ἰουστῖνος, Σοφίης πόσις, ᾧ πόρε Χριστὸς\\n πάντα διορθοῦσθαι, καὶ κλέος ἐν πολέμοις,\\nμητρὸς ἀπειρογάμοιο δόμον σκάζοντα νοήσας,\\n σαθρὸν ἀποσκεδάσας τεῦξέ μιν ἀσφαλέως.\\n',\n",
       " '\\n                     ὁ πρὶν Ἰουστῖνος περικαλλέα δείματο νηὸν\\nτοῦτον μητρὶ Θεοῦ, κάλλεϊ λαμπόμενον:\\nὁπχότερος δὲ μετ᾽ αὐτὸν Ἰουστῖνος βασιλεύων\\nκρείσσονα τῆς προτέρης ὤπασεν ἀγλαΐην.\\n\\n                  ',\n",
       " '\\n                      τοῦτον Ἰωάννῃ, Χριστοῦ μεγάλῳ θεράποντι,\\n Στούδιος ἀγλαὸν οἶκον ἐδείματο: καρπαλίμως δὲ\\n τῶν κάμεν εὕρετο μισθόν, ἑλὼν ὑπατηίδα ῥάβδον.\\n',\n",
       " '\\n                     τόνδε Θεῷ κάμες οἶκον, Ἀμάντιε, μεσσόθι πόντου,\\nτοῖς πολυδινήτοις κύμασι μαρνάμενος.\\nοὐ νότος, οὐ βορέης ἱερὸν σέο δῶμα τινάξει,\\n νηῷ θεσπεσίῳ τῷδε φυλασσόμενον.\\n\\n                      ζώοις ἤματα πολλά: σὺ γὰρ νεοθηλέα Ῥώμην,\\n πόντῳ ἐπαΐξας, θήκαο φαιδροτέρην.\\n']"
      ]
     },
     "execution_count": 44,
     "metadata": {},
     "output_type": "execute_result"
    }
   ],
   "source": [
    "all_texts[:5]"
   ]
  },
  {
   "cell_type": "code",
   "execution_count": 45,
   "id": "987e382e",
   "metadata": {},
   "outputs": [],
   "source": [
    "all_antipater = {'sidon':[], 'thess':[], 'dubious':[]}  \n",
    "\n",
    "antipater_thess_id = '3'\n",
    "antipater_sid_id = '17'\n",
    "\n",
    "for epigram in all_epigrams:\n",
    "    poem = dict()\n",
    "    \n",
    "    for author in epigram['authors']:\n",
    "        if author['url'] == 'https://anthologiagraeca.org/api/authors/'+antipater_thess_id+'/':\n",
    "            if 'author' in poem:\n",
    "                poem['author'] ='dubious'\n",
    "            else: \n",
    "                poem['author'] = 'thess'\n",
    "                \n",
    "        if author['url'] == 'https://anthologiagraeca.org/api/authors/'+antipater_sid_id+'/':\n",
    "            if 'author' in poem:\n",
    "                poem['author']  ='dubious'\n",
    "            else: \n",
    "                poem['author'] = 'sidon'\n",
    "                \n",
    "    if 'author' in poem:\n",
    "        poem['book'] = epigram[\"book\"][\"number\"]\n",
    "        poem['poem_num'] = epigram[\"fragment\"]\n",
    "        for epigram_text in epigram[\"texts\"]:\n",
    "            if epigram_text[\"language\"] == \"grc\":\n",
    "                poem['text']= epigram_text['text']\n",
    "        all_antipater[poem['author'] ].append(poem);\n",
    "    "
   ]
  },
  {
   "cell_type": "code",
   "execution_count": 46,
   "id": "c4e44c9a",
   "metadata": {},
   "outputs": [
    {
     "data": {
      "text/plain": [
       "dict_keys(['sidon', 'thess', 'dubious'])"
      ]
     },
     "execution_count": 46,
     "metadata": {},
     "output_type": "execute_result"
    }
   ],
   "source": [
    "all_antipater.keys()"
   ]
  },
  {
   "cell_type": "code",
   "execution_count": 47,
   "id": "7c98f9b4",
   "metadata": {},
   "outputs": [
    {
     "data": {
      "text/plain": [
       "86"
      ]
     },
     "execution_count": 47,
     "metadata": {},
     "output_type": "execute_result"
    }
   ],
   "source": [
    "len(all_antipater[\"sidon\"])"
   ]
  },
  {
   "cell_type": "code",
   "execution_count": 48,
   "id": "2c42cf1f",
   "metadata": {},
   "outputs": [
    {
     "data": {
      "text/plain": [
       "97"
      ]
     },
     "execution_count": 48,
     "metadata": {},
     "output_type": "execute_result"
    }
   ],
   "source": [
    "len(all_antipater[\"thess\"])"
   ]
  },
  {
   "cell_type": "code",
   "execution_count": 49,
   "id": "79c09842",
   "metadata": {},
   "outputs": [
    {
     "data": {
      "text/plain": [
       "1"
      ]
     },
     "execution_count": 49,
     "metadata": {},
     "output_type": "execute_result"
    }
   ],
   "source": [
    "len(all_antipater['dubious'])"
   ]
  },
  {
   "cell_type": "code",
   "execution_count": 50,
   "id": "16ef205f",
   "metadata": {},
   "outputs": [
    {
     "data": {
      "text/plain": [
       "{'author': 'sidon',\n",
       " 'book': 6,\n",
       " 'poem_num': 10,\n",
       " 'text': 'Τριτογενές, Σώτειρα, Διὸς φυγοδέμνιε κούρα,\\n Παλλάς, ἀπειροτόκου δεσπότι παρθενίης,\\nβωμόν τοι κεραοῦχον ἐδείματο τόνδε Σέλευκος,\\n Φοιβείαν ἰαχὰν φθεγγομένου στόματος.'}"
      ]
     },
     "execution_count": 50,
     "metadata": {},
     "output_type": "execute_result"
    }
   ],
   "source": [
    "all_antipater[\"sidon\"][0]"
   ]
  },
  {
   "cell_type": "code",
   "execution_count": 51,
   "id": "11abfb25",
   "metadata": {
    "scrolled": false
   },
   "outputs": [],
   "source": [
    "texts_sidon = [_dict[\"text\"] for _dict in all_antipater[\"sidon\"]]"
   ]
  },
  {
   "cell_type": "code",
   "execution_count": 52,
   "id": "a711d177",
   "metadata": {},
   "outputs": [],
   "source": [
    "texts_thess = [_dict[\"text\"] for _dict in all_antipater[\"thess\"]]"
   ]
  },
  {
   "cell_type": "code",
   "execution_count": 53,
   "id": "73d329f1",
   "metadata": {},
   "outputs": [],
   "source": [
    "text_dubious = [_dict[\"text\"] for _dict in all_antipater[\"dubious\"]]"
   ]
  },
  {
   "cell_type": "markdown",
   "id": "d2e32502",
   "metadata": {},
   "source": [
    "# Preprocess"
   ]
  },
  {
   "cell_type": "code",
   "execution_count": 54,
   "id": "32b055b2",
   "metadata": {},
   "outputs": [
    {
     "data": {
      "text/plain": [
       "'Τριτογενές, Σώτειρα, Διὸς φυγοδέμνιε κούρα,\\n Παλλάς, ἀπειροτόκου δεσπότι παρθενίης,\\nβωμόν τοι κεραοῦχον ἐδείματο τόνδε Σέλευκος,\\n Φοιβείαν ἰαχὰν φθεγγομένου στόματος.'"
      ]
     },
     "execution_count": 54,
     "metadata": {},
     "output_type": "execute_result"
    }
   ],
   "source": [
    "texts_sidon[0]"
   ]
  },
  {
   "cell_type": "code",
   "execution_count": 79,
   "id": "d7f2e34d",
   "metadata": {},
   "outputs": [],
   "source": [
    "# !pip install tqdm\n",
    "from tqdm.notebook import trange"
   ]
  },
  {
   "cell_type": "code",
   "execution_count": 84,
   "id": "76c51fdb",
   "metadata": {
    "scrolled": false
   },
   "outputs": [],
   "source": [
    "def clean_texts(list_of_texts):\n",
    "    \"\"\"Clean punctuation, lemmatize w/ cltk\"\"\"\n",
    "    clean_texts = list()\n",
    "    for idx in trange(len(list_of_texts)):\n",
    "        text = list_of_texts[idx]\n",
    "        clean_text = text.replace(\",\", \"\")\n",
    "        clean_text = clean_text.replace(\".\", \"\")\n",
    "        clean_text = clean_text.replace(\":\", \"\")\n",
    "        clean_text = clean_text.replace(\"\\n\", \" \")\n",
    "        clean_text = clean_text.replace(\"᾽\", \"\") #TODO: rm this if lemmatizing\n",
    "        cltk_doc = nlp.analyze(clean_text)\n",
    "        clean_text = \" \".join([word.lemma for word in cltk_doc.words])\n",
    "        #print(dir(cltk_doc))\n",
    "        #input()\n",
    "        #clean_text = unicodedata.normalize(\"NFKD\", clean_text).translate({ord(c): None for c in \"̓̔́̀͂̈ͅ\"})\n",
    "        clean_texts.append(clean_text)\n",
    "    return clean_texts"
   ]
  },
  {
   "cell_type": "code",
   "execution_count": 85,
   "id": "6b97692d",
   "metadata": {},
   "outputs": [
    {
     "data": {
      "application/vnd.jupyter.widget-view+json": {
       "model_id": "67db8b88e26a4684949b8f980c98b743",
       "version_major": 2,
       "version_minor": 0
      },
      "text/plain": [
       "  0%|          | 0/4218 [00:00<?, ?it/s]"
      ]
     },
     "metadata": {},
     "output_type": "display_data"
    }
   ],
   "source": [
    "clean_all_epigrams = clean_texts(all_texts)"
   ]
  },
  {
   "cell_type": "code",
   "execution_count": 86,
   "id": "6ce906c8",
   "metadata": {},
   "outputs": [
    {
     "data": {
      "text/plain": [
       "4218"
      ]
     },
     "execution_count": 86,
     "metadata": {},
     "output_type": "execute_result"
    }
   ],
   "source": [
    "len(clean_all_epigrams)"
   ]
  },
  {
   "cell_type": "code",
   "execution_count": 87,
   "id": "dffe688a",
   "metadata": {},
   "outputs": [
    {
     "data": {
      "text/plain": [
       "['ὅς ὁ πλάνος καθαιρέω ἔνος εἰκών ἀνακτής στηλόω εὐσεβής πάλιν',\n",
       " 'θεῖος Ἰουστῖς Σοφίας πόσις ὅς πόρα Χριστός πᾶς διορθόω καί κλέος ἐν πόλεμος μήτηρ ἀπειρόγαμος δόμος σκάζω νοέω σαθρός ἀποσκεδάννυμι τυγχάνω μιν ἀσφαλέως']"
      ]
     },
     "execution_count": 87,
     "metadata": {},
     "output_type": "execute_result"
    }
   ],
   "source": [
    "clean_all_epigrams[:2]"
   ]
  },
  {
   "cell_type": "code",
   "execution_count": 88,
   "id": "06940589",
   "metadata": {},
   "outputs": [
    {
     "data": {
      "application/vnd.jupyter.widget-view+json": {
       "model_id": "f4dd496c948b44ebae54d6fb9ae3a87a",
       "version_major": 2,
       "version_minor": 0
      },
      "text/plain": [
       "  0%|          | 0/86 [00:00<?, ?it/s]"
      ]
     },
     "metadata": {},
     "output_type": "display_data"
    }
   ],
   "source": [
    "clean_sidon = clean_texts(list_of_texts=texts_sidon)"
   ]
  },
  {
   "cell_type": "code",
   "execution_count": 89,
   "id": "67dcb80a",
   "metadata": {},
   "outputs": [
    {
     "data": {
      "application/vnd.jupyter.widget-view+json": {
       "model_id": "5c89c59ef4c84f599b1f75de7aa55c4a",
       "version_major": 2,
       "version_minor": 0
      },
      "text/plain": [
       "  0%|          | 0/97 [00:00<?, ?it/s]"
      ]
     },
     "metadata": {},
     "output_type": "display_data"
    }
   ],
   "source": [
    "clean_thess = clean_texts(list_of_texts=texts_thess)"
   ]
  },
  {
   "cell_type": "code",
   "execution_count": 90,
   "id": "3cf21b16",
   "metadata": {},
   "outputs": [
    {
     "data": {
      "application/vnd.jupyter.widget-view+json": {
       "model_id": "a5187eb561f84b5d868fda61fc0c9465",
       "version_major": 2,
       "version_minor": 0
      },
      "text/plain": [
       "  0%|          | 0/1 [00:00<?, ?it/s]"
      ]
     },
     "metadata": {},
     "output_type": "display_data"
    }
   ],
   "source": [
    "clean_dubious = clean_texts(list_of_texts=text_dubious)"
   ]
  },
  {
   "cell_type": "code",
   "execution_count": 91,
   "id": "9115681b",
   "metadata": {},
   "outputs": [
    {
     "data": {
      "text/plain": [
       "86"
      ]
     },
     "execution_count": 91,
     "metadata": {},
     "output_type": "execute_result"
    }
   ],
   "source": [
    "len(clean_sidon)"
   ]
  },
  {
   "cell_type": "code",
   "execution_count": 92,
   "id": "19efadf1",
   "metadata": {},
   "outputs": [
    {
     "data": {
      "text/plain": [
       "97"
      ]
     },
     "execution_count": 92,
     "metadata": {},
     "output_type": "execute_result"
    }
   ],
   "source": [
    "len(clean_thess)"
   ]
  },
  {
   "cell_type": "code",
   "execution_count": 93,
   "id": "373f3fbe",
   "metadata": {},
   "outputs": [
    {
     "data": {
      "text/plain": [
       "1"
      ]
     },
     "execution_count": 93,
     "metadata": {},
     "output_type": "execute_result"
    }
   ],
   "source": [
    "len(clean_dubious)"
   ]
  },
  {
   "cell_type": "code",
   "execution_count": 94,
   "id": "1fe5bc01",
   "metadata": {},
   "outputs": [
    {
     "data": {
      "text/plain": [
       "'Τριτογενής Σώτειρα Ζεύς φυγοδεμνίζω κούρα Παλλάς ἀπειρότοκος δεσπότις παρθενία βωμός σύ κεραοῦχος δείμνυμι ὅδε Σέλευκος Φοιβεία ἰαχά φθέγγομαι στόμα'"
      ]
     },
     "execution_count": 94,
     "metadata": {},
     "output_type": "execute_result"
    }
   ],
   "source": [
    "clean_sidon[0]"
   ]
  },
  {
   "cell_type": "markdown",
   "id": "49242f02",
   "metadata": {},
   "source": [
    "# Count Words (etc.)"
   ]
  },
  {
   "cell_type": "code",
   "execution_count": 95,
   "id": "f9bcea4e",
   "metadata": {},
   "outputs": [],
   "source": [
    "from sklearn.feature_extraction.text import CountVectorizer"
   ]
  },
  {
   "cell_type": "code",
   "execution_count": 96,
   "id": "5ce6561d",
   "metadata": {},
   "outputs": [],
   "source": [
    "epigram_count_vectorizer = CountVectorizer(min_df=2, max_features=2000)"
   ]
  },
  {
   "cell_type": "code",
   "execution_count": 98,
   "id": "9c22956e",
   "metadata": {},
   "outputs": [
    {
     "data": {
      "text/html": [
       "<style>#sk-container-id-1 {color: black;background-color: white;}#sk-container-id-1 pre{padding: 0;}#sk-container-id-1 div.sk-toggleable {background-color: white;}#sk-container-id-1 label.sk-toggleable__label {cursor: pointer;display: block;width: 100%;margin-bottom: 0;padding: 0.3em;box-sizing: border-box;text-align: center;}#sk-container-id-1 label.sk-toggleable__label-arrow:before {content: \"▸\";float: left;margin-right: 0.25em;color: #696969;}#sk-container-id-1 label.sk-toggleable__label-arrow:hover:before {color: black;}#sk-container-id-1 div.sk-estimator:hover label.sk-toggleable__label-arrow:before {color: black;}#sk-container-id-1 div.sk-toggleable__content {max-height: 0;max-width: 0;overflow: hidden;text-align: left;background-color: #f0f8ff;}#sk-container-id-1 div.sk-toggleable__content pre {margin: 0.2em;color: black;border-radius: 0.25em;background-color: #f0f8ff;}#sk-container-id-1 input.sk-toggleable__control:checked~div.sk-toggleable__content {max-height: 200px;max-width: 100%;overflow: auto;}#sk-container-id-1 input.sk-toggleable__control:checked~label.sk-toggleable__label-arrow:before {content: \"▾\";}#sk-container-id-1 div.sk-estimator input.sk-toggleable__control:checked~label.sk-toggleable__label {background-color: #d4ebff;}#sk-container-id-1 div.sk-label input.sk-toggleable__control:checked~label.sk-toggleable__label {background-color: #d4ebff;}#sk-container-id-1 input.sk-hidden--visually {border: 0;clip: rect(1px 1px 1px 1px);clip: rect(1px, 1px, 1px, 1px);height: 1px;margin: -1px;overflow: hidden;padding: 0;position: absolute;width: 1px;}#sk-container-id-1 div.sk-estimator {font-family: monospace;background-color: #f0f8ff;border: 1px dotted black;border-radius: 0.25em;box-sizing: border-box;margin-bottom: 0.5em;}#sk-container-id-1 div.sk-estimator:hover {background-color: #d4ebff;}#sk-container-id-1 div.sk-parallel-item::after {content: \"\";width: 100%;border-bottom: 1px solid gray;flex-grow: 1;}#sk-container-id-1 div.sk-label:hover label.sk-toggleable__label {background-color: #d4ebff;}#sk-container-id-1 div.sk-serial::before {content: \"\";position: absolute;border-left: 1px solid gray;box-sizing: border-box;top: 0;bottom: 0;left: 50%;z-index: 0;}#sk-container-id-1 div.sk-serial {display: flex;flex-direction: column;align-items: center;background-color: white;padding-right: 0.2em;padding-left: 0.2em;position: relative;}#sk-container-id-1 div.sk-item {position: relative;z-index: 1;}#sk-container-id-1 div.sk-parallel {display: flex;align-items: stretch;justify-content: center;background-color: white;position: relative;}#sk-container-id-1 div.sk-item::before, #sk-container-id-1 div.sk-parallel-item::before {content: \"\";position: absolute;border-left: 1px solid gray;box-sizing: border-box;top: 0;bottom: 0;left: 50%;z-index: -1;}#sk-container-id-1 div.sk-parallel-item {display: flex;flex-direction: column;z-index: 1;position: relative;background-color: white;}#sk-container-id-1 div.sk-parallel-item:first-child::after {align-self: flex-end;width: 50%;}#sk-container-id-1 div.sk-parallel-item:last-child::after {align-self: flex-start;width: 50%;}#sk-container-id-1 div.sk-parallel-item:only-child::after {width: 0;}#sk-container-id-1 div.sk-dashed-wrapped {border: 1px dashed gray;margin: 0 0.4em 0.5em 0.4em;box-sizing: border-box;padding-bottom: 0.4em;background-color: white;}#sk-container-id-1 div.sk-label label {font-family: monospace;font-weight: bold;display: inline-block;line-height: 1.2em;}#sk-container-id-1 div.sk-label-container {text-align: center;}#sk-container-id-1 div.sk-container {/* jupyter's `normalize.less` sets `[hidden] { display: none; }` but bootstrap.min.css set `[hidden] { display: none !important; }` so we also need the `!important` here to be able to override the default hidden behavior on the sphinx rendered scikit-learn.org. See: https://github.com/scikit-learn/scikit-learn/issues/21755 */display: inline-block !important;position: relative;}#sk-container-id-1 div.sk-text-repr-fallback {display: none;}</style><div id=\"sk-container-id-1\" class=\"sk-top-container\"><div class=\"sk-text-repr-fallback\"><pre>CountVectorizer(max_features=2000, min_df=2)</pre><b>In a Jupyter environment, please rerun this cell to show the HTML representation or trust the notebook. <br />On GitHub, the HTML representation is unable to render, please try loading this page with nbviewer.org.</b></div><div class=\"sk-container\" hidden><div class=\"sk-item\"><div class=\"sk-estimator sk-toggleable\"><input class=\"sk-toggleable__control sk-hidden--visually\" id=\"sk-estimator-id-1\" type=\"checkbox\" checked><label for=\"sk-estimator-id-1\" class=\"sk-toggleable__label sk-toggleable__label-arrow\">CountVectorizer</label><div class=\"sk-toggleable__content\"><pre>CountVectorizer(max_features=2000, min_df=2)</pre></div></div></div></div></div>"
      ],
      "text/plain": [
       "CountVectorizer(max_features=2000, min_df=2)"
      ]
     },
     "execution_count": 98,
     "metadata": {},
     "output_type": "execute_result"
    }
   ],
   "source": [
    "epigram_count_vectorizer.fit(all_texts)"
   ]
  },
  {
   "cell_type": "code",
   "execution_count": 100,
   "id": "0278b5d5",
   "metadata": {
    "scrolled": true
   },
   "outputs": [
    {
     "data": {
      "text/plain": [
       "2000"
      ]
     },
     "execution_count": 100,
     "metadata": {},
     "output_type": "execute_result"
    }
   ],
   "source": [
    "len(epigram_count_vectorizer.vocabulary_)"
   ]
  },
  {
   "cell_type": "code",
   "execution_count": 101,
   "id": "065f27f8",
   "metadata": {},
   "outputs": [],
   "source": [
    "vectors_sidon = epigram_count_vectorizer.transform(clean_sidon)"
   ]
  },
  {
   "cell_type": "code",
   "execution_count": 102,
   "id": "996d7b11",
   "metadata": {},
   "outputs": [],
   "source": [
    "vectors_thess = epigram_count_vectorizer.transform(clean_thess)"
   ]
  },
  {
   "cell_type": "code",
   "execution_count": 103,
   "id": "6b2dbf20",
   "metadata": {},
   "outputs": [],
   "source": [
    "vector_dubious = epigram_count_vectorizer.transform(clean_dubious)"
   ]
  },
  {
   "cell_type": "markdown",
   "id": "5013ea1f",
   "metadata": {},
   "source": [
    "# Compare similarity"
   ]
  },
  {
   "cell_type": "code",
   "execution_count": 104,
   "id": "5949aaf4",
   "metadata": {},
   "outputs": [],
   "source": [
    "# from sklearn.metrics.pairwise import cosine_similarity"
   ]
  },
  {
   "cell_type": "code",
   "execution_count": 105,
   "id": "d8a6902e",
   "metadata": {},
   "outputs": [],
   "source": [
    "# from sklearn.metrics.pairwise import cosine_distances"
   ]
  },
  {
   "cell_type": "code",
   "execution_count": 106,
   "id": "36c09a55",
   "metadata": {},
   "outputs": [],
   "source": [
    "from scipy.spatial.distance import cosine"
   ]
  },
  {
   "cell_type": "code",
   "execution_count": 107,
   "id": "27fbf69f",
   "metadata": {},
   "outputs": [
    {
     "data": {
      "text/plain": [
       "1.0"
      ]
     },
     "execution_count": 107,
     "metadata": {},
     "output_type": "execute_result"
    }
   ],
   "source": [
    "cosine([1, 0, 0], [0, 1, 0])"
   ]
  },
  {
   "cell_type": "code",
   "execution_count": 108,
   "id": "56bb9534",
   "metadata": {},
   "outputs": [
    {
     "data": {
      "text/plain": [
       "1.0"
      ]
     },
     "execution_count": 108,
     "metadata": {},
     "output_type": "execute_result"
    }
   ],
   "source": [
    "cosine([1, 0, 0], [0, 1, 0])"
   ]
  },
  {
   "cell_type": "code",
   "execution_count": 109,
   "id": "605b82f5",
   "metadata": {},
   "outputs": [],
   "source": [
    "from scipy.spatial.distance import euclidean"
   ]
  },
  {
   "cell_type": "code",
   "execution_count": 139,
   "id": "85593a1a",
   "metadata": {
    "scrolled": false
   },
   "outputs": [],
   "source": [
    "def calculate_average_similarity(one_vector, many_vectors):\n",
    "    distance_sum = 0\n",
    "    for idx, vector in enumerate(many_vectors):\n",
    "        vector_array = vector.toarray()[0]\n",
    "        vector_dubious_array = one_vector.toarray()[0]\n",
    "        sim = cosine(vector_array, vector_dubious_array)\n",
    "        distance_sum += float(sim)\n",
    "    avg = distance_sum / many_vectors.shape[0]\n",
    "    return avg"
   ]
  },
  {
   "cell_type": "code",
   "execution_count": 140,
   "id": "95f03425",
   "metadata": {},
   "outputs": [
    {
     "data": {
      "text/plain": [
       "0.7127476097407357"
      ]
     },
     "execution_count": 140,
     "metadata": {},
     "output_type": "execute_result"
    }
   ],
   "source": [
    "calculate_average_similarity(one_vector=vector_dubious, many_vectors=vectors_sidon)"
   ]
  },
  {
   "cell_type": "code",
   "execution_count": 141,
   "id": "5a64ae68",
   "metadata": {},
   "outputs": [
    {
     "data": {
      "text/plain": [
       "0.7313254458955518"
      ]
     },
     "execution_count": 141,
     "metadata": {},
     "output_type": "execute_result"
    }
   ],
   "source": [
    "calculate_average_similarity(one_vector=vector_dubious, many_vectors=vectors_thess)"
   ]
  },
  {
   "cell_type": "markdown",
   "id": "f38f9524",
   "metadata": {},
   "source": [
    "# Compare the dubious to all\n",
    "\n",
    "Print the 10 most similar epigrams"
   ]
  },
  {
   "cell_type": "code",
   "execution_count": 142,
   "id": "4f71c9ec",
   "metadata": {},
   "outputs": [],
   "source": [
    "from sklearn.metrics.pairwise import cosine_distances"
   ]
  },
  {
   "cell_type": "code",
   "execution_count": 144,
   "id": "eefdf3ab",
   "metadata": {},
   "outputs": [
    {
     "name": "stderr",
     "output_type": "stream",
     "text": [
      "C:\\Users\\willi\\AppData\\Local\\Programs\\Python\\Python310\\lib\\site-packages\\sklearn\\utils\\validation.py:727: FutureWarning: np.matrix usage is deprecated in 1.0 and will raise a TypeError in 1.2. Please convert to a numpy array with np.asarray. For more information see: https://numpy.org/doc/stable/reference/generated/numpy.matrix.html\n",
      "  warnings.warn(\n",
      "C:\\Users\\willi\\AppData\\Local\\Programs\\Python\\Python310\\lib\\site-packages\\sklearn\\utils\\validation.py:727: FutureWarning: np.matrix usage is deprecated in 1.0 and will raise a TypeError in 1.2. Please convert to a numpy array with np.asarray. For more information see: https://numpy.org/doc/stable/reference/generated/numpy.matrix.html\n",
      "  warnings.warn(\n"
     ]
    }
   ],
   "source": [
    "dubius_cf_sidon = cosine_distances(vector_dubious.todense(), vectors_sidon.todense())"
   ]
  },
  {
   "cell_type": "code",
   "execution_count": 148,
   "id": "fc2fcf3c",
   "metadata": {},
   "outputs": [
    {
     "name": "stderr",
     "output_type": "stream",
     "text": [
      "C:\\Users\\willi\\AppData\\Local\\Programs\\Python\\Python310\\lib\\site-packages\\sklearn\\utils\\validation.py:727: FutureWarning: np.matrix usage is deprecated in 1.0 and will raise a TypeError in 1.2. Please convert to a numpy array with np.asarray. For more information see: https://numpy.org/doc/stable/reference/generated/numpy.matrix.html\n",
      "  warnings.warn(\n",
      "C:\\Users\\willi\\AppData\\Local\\Programs\\Python\\Python310\\lib\\site-packages\\sklearn\\utils\\validation.py:727: FutureWarning: np.matrix usage is deprecated in 1.0 and will raise a TypeError in 1.2. Please convert to a numpy array with np.asarray. For more information see: https://numpy.org/doc/stable/reference/generated/numpy.matrix.html\n",
      "  warnings.warn(\n"
     ]
    }
   ],
   "source": [
    "dubius_cf_thess = cosine_distances(vector_dubious.todense(), vectors_thess.todense())"
   ]
  },
  {
   "cell_type": "code",
   "execution_count": 149,
   "id": "8f6fa659",
   "metadata": {},
   "outputs": [
    {
     "data": {
      "text/plain": [
       "(1, 86)"
      ]
     },
     "execution_count": 149,
     "metadata": {},
     "output_type": "execute_result"
    }
   ],
   "source": [
    "dubius_cf_sidon.shape"
   ]
  },
  {
   "cell_type": "code",
   "execution_count": 150,
   "id": "15602be4",
   "metadata": {},
   "outputs": [
    {
     "data": {
      "text/plain": [
       "array([[0.80304035, 0.73197187, 0.72888615, 0.67223933, 0.5847726 ,\n",
       "        0.62095098, 0.53576165, 0.75229246, 0.75185417, 0.59940363,\n",
       "        0.702225  , 0.78335544, 0.73912057, 0.7923863 , 0.7452281 ,\n",
       "        0.6060807 , 0.62153458, 0.8607285 , 0.58548913, 0.58894585,\n",
       "        0.9241902 , 0.68416192, 0.87950495, 0.7452281 , 0.51289198,\n",
       "        0.66096825, 1.        , 0.71673559, 0.89278875, 0.63606987,\n",
       "        0.81430466, 0.89472064, 0.69876238, 0.78034315, 0.5976601 ,\n",
       "        0.64368659, 0.56222773, 0.6696483 , 0.88628529, 0.43932679,\n",
       "        1.        , 0.82383393, 0.8607285 , 0.86869357, 0.52833337,\n",
       "        0.71290733, 0.58894585, 0.58599566, 0.59528639, 0.68481246,\n",
       "        0.84236793, 0.66561188, 0.72005374, 0.539447  , 0.57019881,\n",
       "        0.78990971, 0.90715233, 0.72286735, 0.70865718, 0.45758337,\n",
       "        0.62095098, 1.        , 0.66437569, 1.        , 0.77021374,\n",
       "        0.76770895, 0.72203072, 0.93219365, 0.63582148, 0.80892107,\n",
       "        0.95357617, 0.73197187, 0.83918312, 1.        , 0.48933782,\n",
       "        0.6060807 , 0.84838039, 0.65885588, 0.7923863 , 0.78944128,\n",
       "        0.48116671, 0.72977359, 0.55958484, 1.        , 0.69098428,\n",
       "        0.5841963 ]])"
      ]
     },
     "execution_count": 150,
     "metadata": {},
     "output_type": "execute_result"
    }
   ],
   "source": [
    "dubius_cf_sidon"
   ]
  },
  {
   "cell_type": "code",
   "execution_count": 151,
   "id": "f473fa4d",
   "metadata": {},
   "outputs": [
    {
     "data": {
      "text/plain": [
       "array([[0.82492476, 0.72703958, 0.61504057, 0.86869357, 0.65955855,\n",
       "        0.8607285 , 0.78913367, 0.63606987, 0.82492476, 0.7287746 ,\n",
       "        0.70638989, 0.68416192, 0.57019881, 1.        , 0.82383393,\n",
       "        0.83918312, 0.90446054, 0.81430466, 0.61830686, 0.9241902 ,\n",
       "        0.61830686, 0.67149085, 0.77021374, 1.        , 0.86002687,\n",
       "        0.64766787, 0.8511125 , 0.8245344 , 0.75086356, 0.4736032 ,\n",
       "        0.68416192, 0.64766787, 0.6083911 , 0.85319495, 0.78557749,\n",
       "        0.8880215 , 0.87543178, 0.64968863, 0.58304608, 0.67173392,\n",
       "        0.71338161, 0.67702888, 0.55925872, 0.61373035, 0.55897357,\n",
       "        0.88538635, 0.61397568, 0.71925504, 0.73466568, 0.93810155,\n",
       "        0.61669003, 0.70934082, 0.57981941, 0.65955855, 0.78115595,\n",
       "        0.63234199, 0.62706507, 0.78149289, 0.78557749, 0.47889375,\n",
       "        0.5847726 , 0.62095098, 0.78335544, 0.68416192, 0.69676078,\n",
       "        0.88122886, 0.90566667, 0.72145699, 0.96040962, 0.82492476,\n",
       "        0.82492476, 0.9241902 , 0.76788083, 0.58894585, 0.56110614,\n",
       "        0.57888256, 0.51801981, 0.66781808, 0.59245619, 0.67836624,\n",
       "        0.95037083, 0.79658095, 0.78115595, 0.54450986, 0.70638989,\n",
       "        0.75086356, 0.57826734, 0.65615905, 0.84163848, 1.        ,\n",
       "        0.82383393, 0.57214152, 0.8020481 , 0.72145699, 0.75900991,\n",
       "        0.90152018, 0.58599566]])"
      ]
     },
     "execution_count": 151,
     "metadata": {},
     "output_type": "execute_result"
    }
   ],
   "source": [
    "dubius_cf_thess"
   ]
  },
  {
   "cell_type": "code",
   "execution_count": 152,
   "id": "fd7c012b",
   "metadata": {},
   "outputs": [
    {
     "data": {
      "text/plain": [
       "(1, 97)"
      ]
     },
     "execution_count": 152,
     "metadata": {},
     "output_type": "execute_result"
    }
   ],
   "source": [
    "dubius_cf_thess.shape"
   ]
  },
  {
   "cell_type": "code",
   "execution_count": 153,
   "id": "d02ba812",
   "metadata": {},
   "outputs": [],
   "source": [
    "import numpy as np"
   ]
  },
  {
   "cell_type": "code",
   "execution_count": 168,
   "id": "ca70057d",
   "metadata": {},
   "outputs": [],
   "source": [
    "# https://numpy.org/doc/stable/reference/generated/numpy.argsort.html\n",
    "sidon_idx = np.argsort(dubius_cf_sidon)\n",
    "sidon_idx_descending = np.flip(sidon_idx)"
   ]
  },
  {
   "cell_type": "code",
   "execution_count": 169,
   "id": "1e6be13c",
   "metadata": {},
   "outputs": [
    {
     "data": {
      "text/plain": [
       "array([[39, 59, 80, 74, 24, 44,  6, 53, 82, 36, 54, 85,  4, 18, 47, 19,\n",
       "        46, 48, 34,  9, 15, 75, 60,  5, 16, 68, 29, 35, 77, 25, 62, 51,\n",
       "        37,  3, 21, 49, 84, 32, 10, 58, 45, 27, 52, 66, 57,  2, 81,  1,\n",
       "        71, 12, 14, 23,  8,  7, 65, 64, 33, 11, 79, 55, 78, 13,  0, 69,\n",
       "        30, 41, 72, 50, 76, 42, 17, 43, 22, 38, 28, 31, 56, 20, 67, 70,\n",
       "        61, 40, 26, 83, 73, 63]], dtype=int64)"
      ]
     },
     "execution_count": 169,
     "metadata": {},
     "output_type": "execute_result"
    }
   ],
   "source": [
    "sidon_idx"
   ]
  },
  {
   "cell_type": "code",
   "execution_count": 170,
   "id": "f83bc6f5",
   "metadata": {
    "scrolled": true
   },
   "outputs": [
    {
     "data": {
      "text/plain": [
       "array([[63, 73, 83, 26, 40, 61, 70, 67, 20, 56, 31, 28, 38, 22, 43, 17,\n",
       "        42, 76, 50, 72, 41, 30, 69,  0, 13, 78, 55, 79, 11, 33, 64, 65,\n",
       "         7,  8, 23, 14, 12, 71,  1, 81,  2, 57, 66, 52, 27, 45, 58, 10,\n",
       "        32, 84, 49, 21,  3, 37, 51, 62, 25, 77, 35, 29, 68, 16,  5, 60,\n",
       "        75, 15,  9, 34, 48, 46, 19, 47, 18,  4, 85, 54, 36, 82, 53,  6,\n",
       "        44, 24, 74, 80, 59, 39]], dtype=int64)"
      ]
     },
     "execution_count": 170,
     "metadata": {},
     "output_type": "execute_result"
    }
   ],
   "source": [
    "sidon_idx_descending"
   ]
  },
  {
   "cell_type": "code",
   "execution_count": 196,
   "id": "c0ce70f7",
   "metadata": {},
   "outputs": [],
   "source": [
    "# https://numpy.org/doc/stable/reference/generated/numpy.argsort.html\n",
    "thess_idx = np.argsort(dubius_cf_thess)\n",
    "thess_idx_descending = np.flip(thess_idx)"
   ]
  },
  {
   "cell_type": "code",
   "execution_count": 197,
   "id": "38a1c14e",
   "metadata": {},
   "outputs": [
    {
     "data": {
      "text/plain": [
       "array([[29, 59, 76, 83, 44, 42, 74, 12, 91, 86, 75, 52, 38, 60, 96, 73,\n",
       "        78, 32, 43, 46,  2, 50, 18, 20, 61, 56, 55,  7, 31, 25, 37, 87,\n",
       "        53,  4, 77, 21, 39, 41, 79, 30, 11, 63, 64, 84, 10, 51, 40, 47,\n",
       "        93, 67,  1,  9, 48, 85, 28, 94, 72, 22, 54, 82, 57, 62, 58, 34,\n",
       "         6, 81, 92, 17, 90, 14, 27,  0,  8, 70, 69, 15, 88, 26, 33, 24,\n",
       "         5,  3, 36, 65, 45, 35, 95, 16, 66, 19, 71, 49, 80, 68, 89, 13,\n",
       "        23]], dtype=int64)"
      ]
     },
     "execution_count": 197,
     "metadata": {},
     "output_type": "execute_result"
    }
   ],
   "source": [
    "thess_idx"
   ]
  },
  {
   "cell_type": "code",
   "execution_count": 198,
   "id": "85af63a8",
   "metadata": {
    "scrolled": true
   },
   "outputs": [
    {
     "data": {
      "text/plain": [
       "array([[23, 13, 89, 68, 80, 49, 71, 19, 66, 16, 95, 35, 45, 65, 36,  3,\n",
       "         5, 24, 33, 26, 88, 15, 69, 70,  8,  0, 27, 14, 90, 17, 92, 81,\n",
       "         6, 34, 58, 62, 57, 82, 54, 22, 72, 94, 28, 85, 48,  9,  1, 67,\n",
       "        93, 47, 40, 51, 10, 84, 64, 63, 11, 30, 79, 41, 39, 21, 77,  4,\n",
       "        53, 87, 37, 25, 31,  7, 55, 56, 61, 20, 18, 50,  2, 46, 43, 32,\n",
       "        78, 73, 96, 60, 38, 52, 75, 86, 91, 12, 74, 42, 44, 83, 76, 59,\n",
       "        29]], dtype=int64)"
      ]
     },
     "execution_count": 198,
     "metadata": {},
     "output_type": "execute_result"
    }
   ],
   "source": [
    "thess_idx_descending"
   ]
  },
  {
   "cell_type": "code",
   "execution_count": 199,
   "id": "d5343a4f",
   "metadata": {},
   "outputs": [
    {
     "data": {
      "text/plain": [
       "0.6841619171453817"
      ]
     },
     "execution_count": 199,
     "metadata": {},
     "output_type": "execute_result"
    }
   ],
   "source": [
    "dubius_cf_thess[0][63]"
   ]
  },
  {
   "cell_type": "code",
   "execution_count": 201,
   "id": "9fbceaf0",
   "metadata": {
    "scrolled": false
   },
   "outputs": [
    {
     "name": "stdout",
     "output_type": "stream",
     "text": [
      "Unknown 'Antipater' epigram:\n",
      "Τανταλὶς ἅδε ποχ᾽ ἁ δίσς1᾽ ἑπτάκι τέκνα τεκοῦσα\n",
      " γαστρὶ μιῇ, Φοίβῳ θῦμα καὶ Ἀρτέμιδι:\n",
      "\n",
      "                   κούρα γὰρ προὔπεμψε κόραις φόνον, ἄρρεσι δ᾽ ἄρσην\n",
      " δισσοὶ γὰρ δισσὰς ἔκτανον ἑβδομάδας.\n",
      "\n",
      "                  ἁ δὲ τόσας ἀγέλας μάτηρ πάρος, ἁ πάρος εὔπαις,\n",
      "οὐδ᾽ ἐφ᾽ ἑνὶ τλάμων λείπετο γηροκόμῳ:\n",
      " μάτηρ δ᾽ οὐχ ὑπὸ παισίν, ὅπερ θέμις, ἀλλ᾽ ὑπὸ ματρὸς\n",
      " παῖδες ἐς ἀλγεινοὺς πάντες ἄγοντο τάφους.\n",
      " Τάνταλε, καὶ δὲ σὲ γλῶσσα διώλεσε, καὶ σέο κούραν\n",
      "\n",
      "                  χἀ μὲν ἐπετρώθη, σοὶ δ᾽ ἔπι δεῖμα λίθος.\n",
      "********************************************************************************\n",
      "Most similar epigrams of Antipater of Sidon:\n",
      "********************************************************************************\n",
      "0.\n",
      "Similarity score: 1.0\n",
      "Μναμοσύναν ἕλε θάμβος, ὅτ᾽ ἔκλυε τᾶς μελιφώνου\n",
      "Σαπφοῦς,  μὴ δεκάταν Μοῦσαν ἔχουσι βροτοί.\n",
      "\n",
      "\n",
      "1.\n",
      "Similarity score: 1.0\n",
      "τὰν δάμαλιν, βουφορβέ, παρέρχεο, μηδ᾽ ἀπάνευθε\n",
      " συρίσδῃς: μαστῷ πόρτιν ἀπεκδέχεται.\n",
      "\n",
      "\n",
      "2.\n",
      "Similarity score: 1.0\n",
      "τὰν ἀναδυομέναν ἀπὸ ματέρος ἄρτι θαλάσσας\n",
      " Κύπριν, Ἀπελλείου μόχθον ὅρα γραφίδος,\n",
      "ὡς χερὶ συμμάρψασα διάβροχον ὕδατι χαίταν\n",
      " ἐκθλίβει νοτερῶν ἀφρὸν ἀπὸ πλοκάμων.\n",
      "\n",
      "\n",
      "3.\n",
      "Similarity score: 1.0\n",
      "\n",
      "                      Πιερικὰν σάλπιγγα, τὸν εὐαγέων βαρὺν ὕμνων\n",
      " χαλκευτάν, κατέχει Πίνδαρον ἅδε κόνις,\n",
      "οὗ μέλος εἰσαΐων φθέγξαιό κεν, ὥς ἀπὸ Μουσῶν\n",
      "ἐν Κάδμου θαλάμοις σμῆνος ἀπεπλάσατο.\n",
      "\n",
      "                  \n",
      "\n",
      "\n",
      "4.\n",
      "Similarity score: 1.0\n",
      "\n",
      "                      Ἰσσοῦ ἐπὶ προμολῇσιν ἁλὸς παρὰ κῦμα Κιλίσσης\n",
      " ἄγριον αἱ Περσῶν κείμεθα μυριάδες,\n",
      " ἔργον Ἀλεξάνδροιο Μακηδόνος, οἳ ποτ᾽ ἄνακτι\n",
      " Δαρείῳ πυμάτην οἶμον ἐφεσπόμεθα.\n",
      "\n",
      "\n",
      "\n",
      "5.\n",
      "Similarity score: 1.0\n",
      "τίς τόδε μουνόγληνος ἅπαν δωμήσατο Κύκλωψ\n",
      "λάινον Ἀσσυρίης χῶμα Σεμιράμιος,\n",
      "ἢ ποῖοι χθονὸς υἷες ἀνυψώσαντο Γίγαντες\n",
      "κείμενον ἑπταπόρων ἀγχόθι Πληιάδων\n",
      "\n",
      "ἀκλινές, ἀστυφέλικτον, Ἀθωέος ἶσον ἐρίπνᾳ\n",
      "φυρηθὲν γαίης εὐρυπέδοιο βάρος;\n",
      "δᾶμος ἀεὶ μακαριστός, ὃς ἄστεσιν Ἡρακλείης\n",
      "οὐρανίων ἔφεσιν τεῦξεν ἐπ' εὐρυάλων.\n",
      "\n",
      "\n",
      "6.\n",
      "Similarity score: 0.9535761654557371\n",
      "εἰ μή μου ποτὶ τᾷδε Μύρων πόδας ἥρμοσε πέτρᾳ,\n",
      " ἄλλαις ἂν νεμόμαν βουσὶν ὁμοῦ δάμαλις.\n",
      "\n",
      "\n",
      "7.\n",
      "Similarity score: 0.932193649637919\n",
      "ἀργυρέη κρηνίς με, τὸν οὐκέτι μακρὰ βοῶντα\n",
      "βάτραχον, οἰνηραῖς ἔσχεν ὑπὸ σταγόσιν\n",
      "κεῖμαι δ᾽ ἐν Νύμφαις, κείναις φίλος, οὐδὲ Λυαίῳ\n",
      " ἐχθρός, ὑπ᾽ ἀμφοτέρων λουόμενος σταγόσιν.\n",
      "\n",
      "                  ὀψὲ ποτ᾽ εἰς Διόνυσον ἐκώμασα. φεῦ τίνες ὕδωρ\n",
      "πίνουσιν, μανίην σώφρονα μαινόμενοι.\n",
      "\n",
      "\n",
      "8.\n",
      "Similarity score: 0.9241901956421097\n",
      "\n",
      "                     οὔνομά μευ Σαπφώ. τόσσον δ᾽ ὑπερέσχον ἀοιδὰν\n",
      " θηλειᾶν, ἀνδρῶν ὅσσον ὁ Μαιονίδας.\n",
      "\n",
      "\n",
      "\n",
      "9.\n",
      "Similarity score: 0.9071523309114741\n",
      "\n",
      "                      εἰδότα κἠπ᾽\n",
      "Ἄτλαντα τεμεῖν πόρον, εἰδότα Κρήτης\n",
      " κύματα καὶ Πόντου ναυτιλίην Μέλανος,\n",
      " Καλλιγένευς Διόδωρον Ὀλύνθιον ἴσθι θανόντα\n",
      "ἐν λιμένι, πρῴρης νύκτερον ἐκχύμενον,\n",
      " δαιτὸς ἐκεῖ τὸ περισσὸν ὅτ᾽ ἤμεεν. ἆ πόσον ὕδωρ\n",
      "ὤλεσε τὸν τόσσῳ κεκριμένον πελάγει.\n",
      "\n",
      "\n",
      "\n"
     ]
    }
   ],
   "source": [
    "print(\"Unknown 'Antipater' epigram:\")\n",
    "print(text_dubious[0])\n",
    "print(\"*\" * 80)\n",
    "print(\"Most similar epigrams of Antipater of Sidon:\")\n",
    "print(\"*\" * 80)\n",
    "for idx, sim_idx in enumerate(sidon_idx_descending[0][:10]):\n",
    "    distance = dubius_cf_sidon[0][sim_idx]\n",
    "    sim_text = texts_sidon[sim_idx]\n",
    "    print(f\"{idx}.\\nSimilarity score: {distance}\\n{sim_text}\\n\\n\")"
   ]
  },
  {
   "cell_type": "code",
   "execution_count": 202,
   "id": "823d50ad",
   "metadata": {
    "scrolled": false
   },
   "outputs": [
    {
     "name": "stdout",
     "output_type": "stream",
     "text": [
      "Unknown 'Antipater' epigram:\n",
      "Τανταλὶς ἅδε ποχ᾽ ἁ δίσς1᾽ ἑπτάκι τέκνα τεκοῦσα\n",
      " γαστρὶ μιῇ, Φοίβῳ θῦμα καὶ Ἀρτέμιδι:\n",
      "\n",
      "                   κούρα γὰρ προὔπεμψε κόραις φόνον, ἄρρεσι δ᾽ ἄρσην\n",
      " δισσοὶ γὰρ δισσὰς ἔκτανον ἑβδομάδας.\n",
      "\n",
      "                  ἁ δὲ τόσας ἀγέλας μάτηρ πάρος, ἁ πάρος εὔπαις,\n",
      "οὐδ᾽ ἐφ᾽ ἑνὶ τλάμων λείπετο γηροκόμῳ:\n",
      " μάτηρ δ᾽ οὐχ ὑπὸ παισίν, ὅπερ θέμις, ἀλλ᾽ ὑπὸ ματρὸς\n",
      " παῖδες ἐς ἀλγεινοὺς πάντες ἄγοντο τάφους.\n",
      " Τάνταλε, καὶ δὲ σὲ γλῶσσα διώλεσε, καὶ σέο κούραν\n",
      "\n",
      "                  χἀ μὲν ἐπετρώθη, σοὶ δ᾽ ἔπι δεῖμα λίθος.\n",
      "********************************************************************************\n",
      "Most similar epigrams of Antipater of Thessalonica:\n",
      "********************************************************************************\n",
      "0.\n",
      "Similarity score: 1.0\n",
      "\n",
      "                     ἀνθέα τὸν ναυηγὸν ἐπὶ στόμα Πηνειοῖο\n",
      " νυκτὸς ὑπὲρ βαιῆς νηξάμενον σανίδος,\n",
      " μούνιος ἐκ θάμνοιο θορὼν λύκος, ἄσκοπον ἄνδρα,\n",
      " ἔκτανεν. ὦ γαίης κύματα πιστότερα,\n",
      "\n",
      "                  \n",
      "\n",
      "\n",
      "1.\n",
      "Similarity score: 1.0\n",
      "\n",
      "                      ἀνέρα μὴ πέτρῃ τεκμαίρεο. λιτὸς ὁ τύμβος\n",
      " ὀφθῆναι, μεγάλου δ᾽ ὀστέα φωτὸς ἔχει.\n",
      " εἰδήσεις Ἀλκμᾶνα, λύρης ἐλατῆρα Λακαίνης\n",
      " ἔξοχον, ὃν Μουσέων ἐννέ᾽ ἀριθμὸς ἔχει:\n",
      "\n",
      "                     κεῖται δ᾽ ἠπείροις διδύμοις ἔρις, εἴθ᾽ ὅγε Λυδὸς,\n",
      " εἴτε Λάκων πολλαὶ μητέρες ὑμνοπόλων.\n",
      "\n",
      "                  \n",
      "\n",
      "\n",
      "2.\n",
      "Similarity score: 1.0\n",
      "ἑστηκὸς τὸ Κίμωνος ἰδὼν πέος, εἶφ᾽ ὁ Πρίηπος:\n",
      "\n",
      "                   οἴμοι, ὑπὸ θνητοῦ λείπομαι ἀθάνατος.\n",
      "\n",
      "\n",
      "3.\n",
      "Similarity score: 0.9604096208767552\n",
      "Δμώιον Ἱπποκράτευς ἔθανε βρέφος, ἐς πλατὺ πόντου\n",
      "χεῖλος γειτοσύνης ἑρπύσαν ἐκ καλύβης,\n",
      "\n",
      "                   πλεῖον ἐπεὶ μαζῶν ἔπιεν ποτόν. ἔρρε θάλασσα\n",
      "ἣ βρέφος ὡς μήτηρ ψεύσαο δεξαμένη.\n",
      "\n",
      "\n",
      "4.\n",
      "Similarity score: 0.9503708333014534\n",
      "Νικίεω πόνος οὗτος: ἀειζώουσα Νεκυία\n",
      " ἤσκημαι πάσης ἠρίον ἡλικίης:\n",
      " δώματα δ᾽ Αἰδωνῆος ἐρευνήσαντος Ὁμήρου\n",
      " γέγραμμαι κείνου πρῶτον ἀπ᾽ ἀρχετύπου.\n",
      "\n",
      "\n",
      "5.\n",
      "Similarity score: 0.9381015539409827\n",
      "Ἀντιγένης ὁ Γελῷος ἔπος ποτὲ τοῦτο θυγατρὶ\n",
      "εἶπεν, ὅτ᾽ ἦν ἤδη νεύμενος εἰς Ἀίδην\n",
      "\n",
      "                  \n",
      "                      παρθένε καλλιπάρῃε, κόρη δ᾽ ἐμή, ἴσχε συνεργὸν\n",
      "\n",
      "                      ἠλακάτην, ἀρκεῦν κτῆμα πένητι βίῳ:\n",
      "\n",
      "                     \n",
      "                     ἢν δ᾽ ἵκᾐ εἰς ὑμέναιον, Ἀχαιίδος ἤθεα μητρὸς\n",
      "\n",
      "                      χρηστὰ φύλασσε, πόσει προῖκα βεβαιοτάτην.\n",
      "\n",
      "\n",
      "6.\n",
      "Similarity score: 0.9241901956421097\n",
      "μὴ κλαίων τὸν Ἔρωτα δόκει, Τηλέμβροτε, πείσειν,\n",
      " μηδ᾽ ὀλίγῳ παύσειν ὕδατι πῦρ ἀτενές.\n",
      " χρυσὸς Ἔρωτος ἀεὶ παιώνιος: ἐσβέσθη δὲ\n",
      "οὐδὲ τότ᾽ ἐν πολλῷ τικτόμενος πελάγει.\n",
      "\n",
      "\n",
      "7.\n",
      "Similarity score: 0.9241901956421097\n",
      "\n",
      "                     οὐχὶ Θεμιστοκλέους Μάγνης τάφος: ἀλλὰ κέχωσμαι\n",
      " Ἑλλήνων φθονερῆς σῆμα κακοκρισίης.\n",
      "\n",
      "                  \n",
      "\n",
      "\n",
      "8.\n",
      "Similarity score: 0.9056666738726844\n",
      "ὕδατος ἀκρήτου κεκορημένῳ ἄγχι παραστὰς\n",
      " χθιζὸν ἐμοὶ λεχέων Βάκχος ἔλεξε τάδε:\n",
      "\n",
      "                  \n",
      "                      εὕδεις ἄξιον ὕπνον ἀπεχθομένων Ἀφροδίτῃ:\n",
      "\n",
      "                     εἰπέ μοι, ὦ νήφων, πεύθεαι Ἱππολύτου;\n",
      "\n",
      "                     \n",
      "                      τάρβει, μή τι πάθῃς ἐναλίγκιον.\n",
      "                   ὣς ὁ μὲν εἰπὼν\n",
      "ᾤχετ᾽ ἐμοὶ δ᾽ ἀπὸ τῆς οὐκέτι τερπνὸν ὕδωρ.\n",
      "\n",
      "\n",
      "9.\n",
      "Similarity score: 0.9044605367052277\n",
      "\n",
      "                     \n",
      "                      εὐχέσθω τις ἔπειτα γυνὴ τόκον, εἶπε Πολυξώ,\n",
      " γαστέρ᾽ ὑπὸ τρισσῶν ῥηγνυμένη τεκέων\n",
      " μαίης δ᾽ ἐν παλάμῃσι χύθη νέκυς: οἱ δ᾽ ἐπὶ γαῖαν\n",
      "ὤλισθον κοίλων ἄρρενες ἐκ λαγόνων,\n",
      "\n",
      "                      μητέρος ἐκ νεκρῆς ζωὸς γόνος: εἷς ἄρα δαίμων\n",
      " τῆς μὲν ἀπὸ ζωὴν εἵλετο, τοῖς δ᾽ ἔπορεν.\n",
      "\n",
      "\n",
      "\n"
     ]
    }
   ],
   "source": [
    "print(\"Unknown 'Antipater' epigram:\")\n",
    "print(text_dubious[0])\n",
    "print(\"*\" * 80)\n",
    "print(\"Most similar epigrams of Antipater of Thessalonica:\")\n",
    "print(\"*\" * 80)\n",
    "for idx, sim_idx in enumerate(thess_idx_descending[0][:10]):\n",
    "    distance = dubius_cf_thess[0][sim_idx]\n",
    "    sim_text = texts_thess[sim_idx]\n",
    "    print(f\"{idx}.\\nSimilarity score: {distance}\\n{sim_text}\\n\\n\")"
   ]
  },
  {
   "cell_type": "code",
   "execution_count": null,
   "id": "9c4c1342",
   "metadata": {},
   "outputs": [],
   "source": []
  }
 ],
 "metadata": {
  "kernelspec": {
   "display_name": "Python 3 (ipykernel)",
   "language": "python",
   "name": "python3"
  },
  "language_info": {
   "codemirror_mode": {
    "name": "ipython",
    "version": 3
   },
   "file_extension": ".py",
   "mimetype": "text/x-python",
   "name": "python",
   "nbconvert_exporter": "python",
   "pygments_lexer": "ipython3",
   "version": "3.10.8"
  }
 },
 "nbformat": 4,
 "nbformat_minor": 5
}
